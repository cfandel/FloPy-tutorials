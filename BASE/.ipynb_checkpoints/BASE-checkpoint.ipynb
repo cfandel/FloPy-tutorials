{
 "cells": [
  {
   "cell_type": "markdown",
   "metadata": {},
   "source": [
    "**HWRS 582 Base Case Model**\n",
    "\n",
    "**Input files needed:**\n",
    "    <br>BASE_top_elev.csv - grid of land surface elevations \n",
    "\n",
    "**MODFLOW packages used:**\n",
    "   <br>DIS - Discretization input\n",
    "   <br>BAS - Basic\n",
    "   <br>LPF - Layer-Property Flow\n",
    "   <br>OC  - Output Control\n",
    "   <br>PCG - Preconditioned Conjugate Gradient\n",
    "   <br>RCH - Recharge\n",
    "   <br>EVT - Evapotranspiration\n",
    "   <br>WEL - Well\n",
    "   <br>STR - Stream\n",
    "    \n",
    "**Model description:**\n",
    "<br>Build a steady state model.  The model should have 50x50 cells, each 1000 m in x and in y.  The porosity is 0.10, specific yield is 0.10, and storage coefficient is 0.0001.  There are three layers.  The medium is homogeneous within each layer.  The K of the top and bottom layers is 10 m/day in all three principal directions.  K of the middle layer is the same as the lower layer in the leftmost 20 columns, but it is 0.0001 m/day in the z direction in the remaining columns. The bottom of the domain is topographically flat and the bottom layer is 40 m thick.  The middle layer is 5 m thick and is also flat.  The top layer elevation is provided in an Excel file below.   The top left and bottom left corners of the domain are 'rounded' by bedrock.  Specifically, in the top, there is a triangle of no flow cells (added under BCs) extending from row 45, column 1 to row 50, column 6, inclusive, comprising a total of 21 no flow cells.  There is a symmetric no flow region in the top left corner.  The middle layer has similar regions extending from row 43, column 1 to row 50, column 8.  The bottom layer: row 41, column 1 to row 50, column 10. \n",
    "\n",
    "The right boundary in all of the layers has a constant head of 70 m relative to the datum, which is located at the bottom of the domain. All other boundaries are no flow. \n",
    "\n",
    "Recharge occurs at a rate of 4E-5 m/day in the leftmost 15 columns and zero elsewhere.  \n",
    "\n",
    "A stream extends from the left to the right boundary in row 26.  The stream width, length, and thickness are 1.  No flow is entering the stream (from tributaries).  The K of the streambed is 1000 m/day.  The roughness is 0.04 and the slope is 0.001.  The streambed elevation is one m below ground surface and the stage is 0.5 m.  The stream is a 'weak sink' with a strength of 0.5, meaning that half of the particles that enter a stream cell are captured by the stream.  (This is set under MODPATH/Particle Options.)     \n",
    "\n",
    "ET is zero in the left half of the domain.  ET is 1E-5 m/day in the right half of the domain.  ET occurs at a rate of 5E-4 m/day in a riparian area that extends from the left boundary to the right boundary and occupies rows 23 to 29, inclusive.  The extinction depth is 1 m everywhere.\n",
    "\n",
    "There is a well that is used for water supply by the local community, which is completed in the bottom layer at row 21 and column 38.  It is pumped at a rate of 1500 m3/day. \n",
    "\n",
    "The description above defines the system before a proposed new agricultural is realized.  The field is proposed to cover a 2000 m by 2000 m area; 1/8th of the area will be irrigated agriculture at any time.  The rectangular irrigated fields extend between rows 21 and 22 (inclusive) and columns 19 and 20 (inclusive).  \n",
    "\n",
    "ET for the crop is zero - it is accounted for in the calculated recharge beneath the field. The recharge rate is assumed to be 20% of the water demand of the crop, representing intentional excess irrigation to avoid soil salinization.  The water uses of wheat, pistachios, and cotton on a daily basis are: 0.004; 0.006; and 0.008 m/day.  This leads to recharge rates of (e.g. 0.004 * 0.125 * 0.2 = 0.0001): 0.0001, 0.00015, and 0.0002 m/day for these crops, respectively.\n",
    "\n",
    "Water is provided for irrigation from a well that is completed in the top layer at row 12 and column 14.  The pumping rate is equal to the crop water demand plus 20% for excess irrigation plus 30% for irrigation inefficiency.  For wheat, pistachios, and cotton, the pumping rates are (e.g. 0.004 *0.125 * 1.5 * 2000 * 2000 = 3000 m3/day): 3000; 4500; and 6000 m3/day. \n",
    "\n",
    "**Variants**\n",
    "<br><br>\n",
    "PART I: PRE-DEVELOPMENT MODEL, NO SEASONALITY\n",
    "<br>Build the base model as described above without the proposed agricultural activity.  Run the model as steady state with no pumping from the town's well.  This is your pre-development model.\n",
    "\n",
    "PART II: PRE-DEVELOPMENT MODEL, WITH SEASONALITY\n",
    "Build the base model as described above without the proposed agricultural activity.  Run the model as transient for 25 years with no pumping from the town's well.  Recharge takes place from April through September (inclusive) at the rates given in the problem description.  How long does it take for the model to reach a cyclical steady state (annual variations, but no trends)?  Provide evidence to support your conclusion.  This is the required 'burn in' time of your seasonal pre-development model.\n",
    "\n",
    "PART III: POST-DEVELOPMENT MODEL, WITH SEASONALITY\n",
    "<br>Build the base model as described above without the proposed agricultural activity.  Run the model as transient for 100 years PLUS your burn in time.  There is no pumping from the town's well during the burn in period.  The town's pump operates for the next 100 years.  The town's water demand increases exponentially, with the pumping rate changed every 10 years following the equation: Q = 1.5 * t^1.5, for Q in m3/day and t in years.  To avoid confusion, this means that the pumping rates starting in years 0, 10, 20 ... 90 are: 0; 47; 134; 246; 379; 530; 697; 878; 1073; and 1281 m3/day.  This model defines the system before the proposed agricultural activity.\n",
    "\n",
    "PART IV: POST-DEVELOPMENT MODEL, WITH SEASONALITY - FUTURE PROJECTION\n",
    "<br>Using the model that you built in Part III, project out 100 years.  (Remember to project the town's water demand, too!)  Compare this model with your pre-development model with seasonality.  How can you quantify the impacts of the town's water extraction on the hydrologic system?  Describe your metrics precisely.\n",
    "\n",
    "PART V: POST-AG MODEL, WITH SEASONALITY - FUTURE PROJECTION\n",
    "<br>Add the proposed agricultural element (pumping and localized recharge).  This activity begins in year 100.  Both pumping and recharge occur at the rates described and are continuous throughout the year.  Project out 100 years.  Compare this model with your post-development model with seasonality.  How can you quantify the impacts of the town's proposed agricultural element on the hydrologic system?  How do these impacts compare with the impacts of the town's pumping?  How will the agricultural element affect the town's ability to meet its water demand (both for quantity and quality?)\n"
   ]
  },
  {
   "cell_type": "markdown",
   "metadata": {},
   "source": [
    "**Import Python packages**"
   ]
  },
  {
   "cell_type": "code",
   "execution_count": 4,
   "metadata": {},
   "outputs": [],
   "source": [
    "#Import FloPy:\n",
    "import flopy\n",
    "\n",
    "#Import analysis & plotting tools:\n",
    "import numpy as np\n",
    "import flopy.utils.binaryfile as bf\n",
    "import os\n",
    "from mpl_toolkits.mplot3d import Axes3D\n",
    "import matplotlib.pyplot as plt\n",
    "from matplotlib import cm\n",
    "from matplotlib.ticker import LinearLocator, FormatStrFormatter"
   ]
  },
  {
   "cell_type": "markdown",
   "metadata": {},
   "source": [
    "**Model setup**\n",
    "<br> Pre-agriculture"
   ]
  },
  {
   "cell_type": "code",
   "execution_count": 5,
   "metadata": {},
   "outputs": [],
   "source": [
    "##Name:\n",
    "modelname = \"BASE_preag\"\n",
    "\n",
    "##Grid:\n",
    "nrow = 50          #number of rows\n",
    "ncol = 50          #number of columns\n",
    "delr = 1000.       #width of each cell along rows (so really this is column width along x axis)\n",
    "delc = 1000.       #width of each cell along columns (so really this is row height along y axis)\n",
    "Lx = ncol*delr     #width of domain in x (across columns) = number of columns x cell width\n",
    "Ly = nrow*delc     #width of domain in y (across rows) = number of rows x cell height\n",
    "\n",
    "##Layers:\n",
    "nlay = 3                 #number of layers\n",
    "layers = np.arange(nlay) #array of layers\n",
    "ztop = np.genfromtxt('BASE_top_elev.csv', delimiter=',')   #top elevation of top layer (import from csv file) (dim: nrow,ncol)\n",
    "ztop[0,0] = 125.                                           #insert missing initial value (not sure why didn't import)\n",
    "zbot = 0.                         #bottom elevation of model\n",
    "\n",
    "botm = np.zeros((nlay,nrow,ncol)) #create array of zeros for bottom elevation for each model cell (dim: nlay,nrow,ncol)\n",
    "botm[1,:,:] = 40.                 #bottom elevation of middle layer (1) is 40 m\n",
    "botm[0,:,:] = 45.                 #bottom elevation of top layer (0) is 45 m\n",
    "\n",
    "tops = np.zeros((nlay,nrow,ncol)) #create array of zeros for top elevation for each model cell\n",
    "tops[0,:,:] = ztop                #top elevation of top layer is ztop\n",
    "tops[1,:,:] = botm[0,:,:]         #top elevation of middle layer is bottom elev of top layer\n",
    "tops[2,:,:] = botm[1,:,:]         #top elevation of bottom layer is bottom elev of middle layer\n"
   ]
  },
  {
   "cell_type": "code",
   "execution_count": 6,
   "metadata": {},
   "outputs": [],
   "source": [
    "##Medium properties:\n",
    "\n",
    "#Hydraulic conductivity:\n",
    "#Kx and Ky:\n",
    "K_horiz = 10.    #assign horizontal hydraulic conductivity (along rows)\n",
    "K_ratio = 1.     #assign ratio of Ky/Kx (aka Kcol/Krow) - if Kx=Ky, ratio=1\n",
    "#Kz (assign zones):\n",
    "zones = [0,1]                         #list the zone #s\n",
    "Kz_zones = np.zeros((nlay,nrow,ncol)) #define an array of zeros the size of the model grid (nlay, nrow, ncol)\n",
    "Kz_zones[1,:,20:50] = 1               #assign 1 to the coordinates for zone 1 (middle layer, col 21-50)\n",
    "#Kz (assign values to zones):\n",
    "Kz_val = [10.,0.0001]                   #list the K values in each zone (m/day)\n",
    "Kz = np.zeros((nlay,nrow,ncol))         #define an array of zeros the size of the model grid\n",
    "for zone in zones:                      #loop over number of zones\n",
    "    mask = 1 * (Kz_zones == zone)       #create an array of 1s & 0s where each cell in current zone = 1\n",
    "    Kz = (mask * Kz_val[zone]) + Kz     #assign current K value to current zone & keep values assigned to previous zones\n",
    "\n",
    "#Porosity, storage, specific yield, confined/unconfined:\n",
    "n = 0.1          #assign porosity\n",
    "Ss = 0.0001      #assign storage coefficient\n",
    "Sy = 0.1         #assign specific yield\n",
    "uncnf = 1        #if 0 then confined, if >0 then unconfined"
   ]
  },
  {
   "cell_type": "code",
   "execution_count": 7,
   "metadata": {},
   "outputs": [],
   "source": [
    "##Outputs:\n",
    "#this section usually does not change\n",
    "\n",
    "oc_spd = {(0,0):['print head', 'print budget', 'save head', 'save budget']} #create a dictionary for stress period data, where key (0,0) is associated with value ['print...']\n",
    "ipakcb = 53    #unit to save cell-by-cell outputs to\n"
   ]
  },
  {
   "cell_type": "code",
   "execution_count": 8,
   "metadata": {},
   "outputs": [],
   "source": [
    "##Constant head boundary conditions:\n",
    "#if ibound < 0, constant head, if = 0, inactive/no-flow, if > 0 active.\n",
    "\n",
    "#create arrays to indicate active cells (ibound) and starting heads (H_init):\n",
    "ibound = np.ones((nlay, nrow, ncol), dtype=np.int32)    #integer array of dim (z,y,x), makes all cells active                                                     \n",
    "H_init = np.ones((nlay, nrow, ncol), dtype=np.float32)  #float (i.e. decimal) array, sets all initial heads to 1.0\n",
    "\n",
    "#set head at right boundary:\n",
    "H_right = 70.               #define constant head value (m)\n",
    "ibound[:,:,ncol-1] = -1     #replace rightmost column (all zs, all ys, last x) with -1 to indicate constant head\n",
    "H_init[:,:,:] = H_right     #set initial head value across entire model grid\n",
    "\n",
    "#set no-flow cells at corners:\n",
    "corners = [6, 8, 10]           #list corner values of no-flow triangles in each layer\n",
    "for lay in layers:             #iterate over layers\n",
    "    corner = corners[lay]             #choose corner value for current layer\n",
    "    for row in np.arange(corner):     #iterate over rows              \n",
    "        col = (corner-row)              #calculate max column corresponding to current row\n",
    "        ibound[lay,row,0:col] = 0       #replace top corner cells with 0s to indicate no flow\n",
    "        ibound[lay,49-row,0:col] = 0    #replace bottom corner cells with 0s to indicate no flow\n",
    "        "
   ]
  },
  {
   "cell_type": "code",
   "execution_count": 9,
   "metadata": {},
   "outputs": [],
   "source": [
    "##Recharge:\n",
    "\n",
    "#define zones:\n",
    "zones = [0,1]                        #list recharge zone #s\n",
    "R_zones = np.zeros((nlay,nrow,ncol)) #define an array of zeros the size of the model grid\n",
    "R_zones[0,:, 0:15] = 1               #assign 1 to the coordinates for zone 1\n",
    "\n",
    "#assign values to zones:\n",
    "R_val = [0,4e-5]                   #list the recharge fluxes in each zone (m/day)\n",
    "R = np.zeros((nrow,ncol))          #define an array of zeros the size of the model grid\n",
    "for zone in zones:                 #loop over number of zones\n",
    "    mask = 1 * (R_zones[0,:,:] == zone) #create an array of 1s & 0s where each cell in current zone = 1\n",
    "    R = (mask * R_val[zone]) + R        #assign current rech flux to current zone & keep fluxes assigned to previous zones\n",
    "    "
   ]
  },
  {
   "cell_type": "code",
   "execution_count": 10,
   "metadata": {},
   "outputs": [],
   "source": [
    "##ET:\n",
    "\n",
    "#define zones:\n",
    "zones = [0,1,2]                         #list ET zone #s\n",
    "ET_zones = np.zeros((nlay,nrow,ncol))   #define an array of zeroes the size of the model grid\n",
    "ET_zones[0,:, 25:50] = 1             #assign 1 to the coordinates for zone 1\n",
    "ET_zones[0,22:29, :] = 2             #assign 2 to the coordinates for zone 2\n",
    "\n",
    "#assign values to zones\n",
    "ET_val = [0, 1e-5, 5e-5]             #list the values of ET in zones\n",
    "ET = np.zeros((nrow,ncol))           #define an array of zeros the size of the model grid\n",
    "for zone in zones:                   #loop over an index of the zones\n",
    "    mask = 1 * (ET_zones[0,:,:] == zone)    #create an array of 1s & 0s where each cell in current zone = 1\n",
    "    ET = (mask * ET_val[zone]) + ET  #assign current ET value to current zone and keep ET assigned to previous zones\n",
    "\n",
    "#set the ET surface:\n",
    "#this is the elevation with respect to the datum at which the max ET rate occurs\n",
    "#should default to being the same as the land surface elevation\n",
    "ET_surf = ztop\n",
    "\n",
    "#set the extinction depth:\n",
    "extinction_depth = np.zeros((nrow,ncol))   #define an array of zeros the size of the model grid\n",
    "extinction_depth[:] = 1.0                  #assign extinction depth of 1 m to all cells"
   ]
  },
  {
   "cell_type": "code",
   "execution_count": 11,
   "metadata": {},
   "outputs": [],
   "source": [
    "##Wells:\n",
    "well_loc = [2,20,37]       #well location: [lay, row, col]\n",
    "Qwell = -1500.             #well pumping rates (m3/day)\n",
    "well_info = [well_loc[0],well_loc[1],well_loc[2], Qwell]  #well info: [lay, row, col, pumping rate]\n",
    "well_spd = {0: well_info}    #create a dictionary with entries for each stress period\n",
    "\n",
    "well_map = np.zeros((nlay,nrow,ncol))    #define an array of zeros the size of the model grid\n",
    "well_map[well_loc[0],well_loc[1],well_loc[2]] = 1   #assign 1s to well locations - used later for plotting"
   ]
  },
  {
   "cell_type": "code",
   "execution_count": 12,
   "metadata": {},
   "outputs": [],
   "source": [
    "##Stream (using STR package):\n",
    "nreach = 48                          #number of reaches (i.e. cells)\n",
    "nseg = 1                             #number of segments\n",
    "segments = np.ones((nreach),dtype=np.int32)      #integer array of segment numbers for each reach\n",
    "mf_rows = 25*np.ones((nreach),dtype=np.int32)    #integer array of row #s for each reach \n",
    "mf_cols = np.arange(1,nreach+1)      #integer array of col #s for each reach \n",
    "icalc = 0                            #0 = fixed stage, >0 = calculated stage\n",
    "const = 86400.0                      #multiplication constant for m3/day - see documentation for other units\n",
    "istcb2 = 53                          #save outflows to cbb file\n",
    "lay = 0                              #layer for stream\n",
    "flow = 0.                            #inflow to stream (m3/day)\n",
    "stage = 0.5                          #stage of stream (height above streambed surface in m)\n",
    "Kstream = 1000.                      #K of streambed (m/day)\n",
    "width = 1.                           #x-sectional width of channel (m)\n",
    "slope = 0.001                        #slope of streambed (m/m)\n",
    "rough = 0.04                         #roughness of streambed\n",
    "thickness = 1.                       #thickess of streambed sediment (m)\n",
    "\n",
    "#Calculate streambed elevations:\n",
    "surf_elev = np.zeros((nreach))       #create array of zeros the length of the stream\n",
    "for i in np.arange(nreach):                       #iterate over stream reaches\n",
    "    surf_elev[i] = ztop[mf_rows[i],mf_cols[i]]    #pull land surface elevation from ztop for each stream cell\n",
    "\n",
    "Stop = surf_elev - 1            #elevation of the top of the streambed (1 m below land surface) (m)\n",
    "Sbot = Stop - thickness         #elevation of the bottom of the streambed (m)\n",
    "stage_elev = Stop + stage       #elevation of the water surface in the stream (m)\n",
    "\n",
    "#Create map of stream cells for plotting:\n",
    "str_map = np.zeros((nlay,nrow,ncol)) #array of zeros the size of the model grid\n",
    "str_map[0,mf_rows+1,mf_cols] = 1       #assign 1s to cells with a stream reach in them\n",
    "\n",
    "#Create FloPy input dictionaries:\n",
    "str_info = np.zeros((nreach,13))   #create array of zeros for reaches\n",
    "for i in np.arange(nreach):        #iterate over reaches\n",
    "    #create stream info array: [lay, row, col, seg, reach, flow, stage, cond, sbot, stop, width, slope, rough]\n",
    "    str_info[i,:] = [lay, mf_rows[i], mf_cols[i], segments[i], i, flow, stage_elev[i], Kstream, Sbot[i], Stop[i], width, slope, rough]\n",
    "\n",
    "str_spd = {0: str_info}                        #create dictionary of stream info keyed to stress periods\n",
    "seg_info = [0, 0, 0, 0, 0, 0, 0, 0, 0, 0, 0]   #create segment info array - all zeros since only one segment\n",
    "str_segd = {0: seg_info}                       #create dict of segment info keyed to stress periods\n"
   ]
  },
  {
   "cell_type": "markdown",
   "metadata": {},
   "source": [
    "**Display summary of model inputs**"
   ]
  },
  {
   "cell_type": "code",
   "execution_count": 13,
   "metadata": {
    "scrolled": true
   },
   "outputs": [
    {
     "name": "stdout",
     "output_type": "stream",
     "text": [
      "Model name: BASE_preag\n",
      "    Model grid: 3 layers x 50 rows x 50 cols;  Cell dimensions: 1000.0m x 1000.0m\n",
      "    Storage properties: n = 0.1, Sy = 0.1, S = 0.0001\n"
     ]
    },
    {
     "data": {
      "image/png": "[encoded data removed]",
      "text/plain": [
       "<matplotlib.figure.Figure at 0x26e31ff2ef0>"
      ]
     },
     "metadata": {},
     "output_type": "display_data"
    }
   ],
   "source": [
    "#Print model summary (optional: change run to 'y' to run):\n",
    "\n",
    "run = 'y'\n",
    "if run == 'y':\n",
    "    \n",
    "    text = '''Model name: {}\n",
    "    Model grid: {} layers x {} rows x {} cols;  Cell dimensions: {}m x {}m\n",
    "    Storage properties: n = {}, Sy = {}, S = {}'''                     #text to print\n",
    "    print(text.format(modelname, nlay,nrow,ncol, delr,delc, n,Sy,Ss))  #values to fill curly brackets above with\n",
    "\n",
    "    #Plot spatial distribution of model parameters:\n",
    "    pars = [ET_zones, R_zones, Kz_zones, ibound, well_map, str_map, tops]     #create an array of the parameters we want to plot\n",
    "    parnames = ['ET zones','Recharge zones','Kz zones','Head boundaries','Well locations', 'Stream', 'Surface elev (m)'] #create list of names for parameters\n",
    "    f0,ax0 = plt.subplots(nlay,len(pars),figsize=(20,12))  #create figure and axis objects with subplots for each layer & each parameter\n",
    "                                                           #there will be (nlay) rows & (length of pars) columns of subplots\n",
    "\n",
    "    for lay in np.arange(nlay):                              #loop over layer indices\n",
    "        for ipar in np.arange(len(pars)):                    #loop over parameter list indices\n",
    "            ax0[lay,ipar].imshow(pars[ipar][lay,:,:],cmap=cm.binary)    #plot zones for each parameter and each layer in corresponding subplot\n",
    "            ax0[lay,0].set_ylabel('layer '+str(lay))                    #label each layer\n",
    "            ax0[0,ipar].set_title(parnames[ipar])                       #label each parameter\n",
    "            \n",
    "    plt.show()"
   ]
  },
  {
   "cell_type": "markdown",
   "metadata": {},
   "source": [
    "**Create package objects, write MODFLOW input files, run MODFLOW**"
   ]
  },
  {
   "cell_type": "code",
   "execution_count": 14,
   "metadata": {},
   "outputs": [],
   "source": [
    "#Note: running this section multiple times without changing filenames (see block above) will overwrite the existing \n",
    "#files & generate a warning that existing packages are being replaced. This is fine.\n",
    "\n",
    "#Create model object:\n",
    "mf = flopy.modflow.Modflow(modelname, exe_name='mf2005')    #MODFLOW executable must be in same folder, named mf2005.exe\n",
    "    \n",
    "#Create objects for each package (see GHW1 notebook for details):\n",
    "dis = flopy.modflow.ModflowDis(mf, nlay, nrow, ncol, delr=delr, \n",
    "                               delc=delc, top=ztop, botm=botm)         #DIS (Discretization): creates model grid   \n",
    "bas = flopy.modflow.ModflowBas(mf, ibound=ibound, strt=H_init)         #BAS (Basic): assigns head boundaries\n",
    "lpf = flopy.modflow.ModflowLpf(mf, laytyp=uncnf, chani=0, hk=K_horiz, hani=K_ratio, vka=Kz, \n",
    "        ss=Ss, sy=Sy, storagecoefficient=False, ipakcb=ipakcb)                #LPF (Layer Property Flow): assigns flow props between cells\n",
    "oc = flopy.modflow.ModflowOc(mf, stress_period_data=oc_spd, compact=True) #OC (Output Control): Decides what outputs to save\n",
    "pcg = flopy.modflow.ModflowPcg(mf)                                        #PCG (Preconditioned Conjugate Gradient)\n",
    "rch = flopy.modflow.mfrch.ModflowRch(mf, rech=R)                          #RCH (Recharge)\n",
    "evt = flopy.modflow.mfevt.ModflowEvt(mf, surf=ztop, evtr=ET, exdp=extinction_depth, ipakcb=53)  #EVT (Evapotranspiration)\n",
    "wel = flopy.modflow.mfwel.ModflowWel(mf, stress_period_data=well_spd)     #WEL (Well)  \n",
    "strm = flopy.modflow.mfstr.ModflowStr(mf, mxacts=nreach, nss=nseg, ntrib=0, ndiv=0,icalc=icalc, const=const, ipakcb=ipakcb,  istcb2=istcb2, dtype=None,\n",
    "        stress_period_data=str_spd, segment_data=str_segd, extension='str')  #STR (Stream)"
   ]
  },
  {
   "cell_type": "code",
   "execution_count": 15,
   "metadata": {},
   "outputs": [
    {
     "name": "stdout",
     "output_type": "stream",
     "text": [
      "FloPy is using the following executable to run the model: C:\\USGS_apps\\MF2005.1_12\\MF2005.1_12\\bin\\mf2005.exe\n",
      "\n",
      "                                  MODFLOW-2005     \n",
      "    U.S. GEOLOGICAL SURVEY MODULAR FINITE-DIFFERENCE GROUND-WATER FLOW MODEL\n",
      "                             Version 1.12.00 2/3/2017                        \n",
      "\n",
      " Using NAME file: BASE_preag.nam \n",
      " Run start date and time (yyyy/mm/dd hh:mm:ss): 2018/05/21 13:55:39\n",
      "\n",
      " Solving:  Stress period:     1    Time step:     1    Ground-Water Flow Eqn.\n",
      " Run end date and time (yyyy/mm/dd hh:mm:ss): 2018/05/21 13:55:39\n",
      " Elapsed run time:  0.149 Seconds\n",
      "\n",
      "  Normal termination of simulation\n"
     ]
    }
   ],
   "source": [
    "#Write MODFLOW input files:\n",
    "mf.write_input()\n",
    "\n",
    "#Run MODFLOW:\n",
    "success, buff = mf.run_model()"
   ]
  },
  {
   "cell_type": "markdown",
   "metadata": {},
   "source": [
    "**Run MODPATH**"
   ]
  },
  {
   "cell_type": "code",
   "execution_count": 16,
   "metadata": {},
   "outputs": [
    {
     "ename": "Exception",
     "evalue": "The program mp6.exe does not exist or is not executable.",
     "output_type": "error",
     "traceback": [
      "\u001b[1;31m---------------------------------------------------------------------------\u001b[0m",
      "\u001b[1;31mException\u001b[0m                                 Traceback (most recent call last)",
      "\u001b[1;32m<ipython-input-16-9569dea07253>\u001b[0m in \u001b[0;36m<module>\u001b[1;34m()\u001b[0m\n\u001b[0;32m      8\u001b[0m \u001b[1;33m\u001b[0m\u001b[0m\n\u001b[0;32m      9\u001b[0m \u001b[0mmp\u001b[0m\u001b[1;33m.\u001b[0m\u001b[0mwrite_input\u001b[0m\u001b[1;33m(\u001b[0m\u001b[1;33m)\u001b[0m                 \u001b[1;31m#write MODPATH input files\u001b[0m\u001b[1;33m\u001b[0m\u001b[0m\n\u001b[1;32m---> 10\u001b[1;33m \u001b[0mmp\u001b[0m\u001b[1;33m.\u001b[0m\u001b[0mrun_model\u001b[0m\u001b[1;33m(\u001b[0m\u001b[0msilent\u001b[0m\u001b[1;33m=\u001b[0m\u001b[1;32mFalse\u001b[0m\u001b[1;33m)\u001b[0m       \u001b[1;31m#run MODPATH\u001b[0m\u001b[1;33m\u001b[0m\u001b[0m\n\u001b[0m",
      "\u001b[1;32m~\\Anaconda3\\envs\\HWR582\\lib\\site-packages\\flopy\\mbase.py\u001b[0m in \u001b[0;36mrun_model\u001b[1;34m(self, silent, pause, report, normal_msg)\u001b[0m\n\u001b[0;32m    896\u001b[0m         return run_model(self.exe_name, self.namefile, model_ws=self.model_ws,\n\u001b[0;32m    897\u001b[0m                          \u001b[0msilent\u001b[0m\u001b[1;33m=\u001b[0m\u001b[0msilent\u001b[0m\u001b[1;33m,\u001b[0m \u001b[0mpause\u001b[0m\u001b[1;33m=\u001b[0m\u001b[0mpause\u001b[0m\u001b[1;33m,\u001b[0m \u001b[0mreport\u001b[0m\u001b[1;33m=\u001b[0m\u001b[0mreport\u001b[0m\u001b[1;33m,\u001b[0m\u001b[1;33m\u001b[0m\u001b[0m\n\u001b[1;32m--> 898\u001b[1;33m                          normal_msg=normal_msg)\n\u001b[0m\u001b[0;32m    899\u001b[0m \u001b[1;33m\u001b[0m\u001b[0m\n\u001b[0;32m    900\u001b[0m     \u001b[1;32mdef\u001b[0m \u001b[0mload_results\u001b[0m\u001b[1;33m(\u001b[0m\u001b[0mself\u001b[0m\u001b[1;33m)\u001b[0m\u001b[1;33m:\u001b[0m\u001b[1;33m\u001b[0m\u001b[0m\n",
      "\u001b[1;32m~\\Anaconda3\\envs\\HWR582\\lib\\site-packages\\flopy\\mbase.py\u001b[0m in \u001b[0;36mrun_model\u001b[1;34m(exe_name, namefile, model_ws, silent, pause, report, normal_msg, async, cargs)\u001b[0m\n\u001b[0;32m   1283\u001b[0m         s = 'The program {} does not exist or is not executable.'.format(\n\u001b[0;32m   1284\u001b[0m             exe_name)\n\u001b[1;32m-> 1285\u001b[1;33m         \u001b[1;32mraise\u001b[0m \u001b[0mException\u001b[0m\u001b[1;33m(\u001b[0m\u001b[0ms\u001b[0m\u001b[1;33m)\u001b[0m\u001b[1;33m\u001b[0m\u001b[0m\n\u001b[0m\u001b[0;32m   1286\u001b[0m     \u001b[1;32melse\u001b[0m\u001b[1;33m:\u001b[0m\u001b[1;33m\u001b[0m\u001b[0m\n\u001b[0;32m   1287\u001b[0m         \u001b[1;32mif\u001b[0m \u001b[1;32mnot\u001b[0m \u001b[0msilent\u001b[0m\u001b[1;33m:\u001b[0m\u001b[1;33m\u001b[0m\u001b[0m\n",
      "\u001b[1;31mException\u001b[0m: The program mp6.exe does not exist or is not executable."
     ]
    }
   ],
   "source": [
    "\n",
    "mp = flopy.modpath.Modpath(modelname=modelname+'_mp', exe_name='mp6.exe', \n",
    "        modflowmodel=mf, model_ws=None, dis_file=modelname+'.dis', \n",
    "        head_file=modelname+'.hds', budget_file=modelname+'.cbc')                 #create MODPATH model object\n",
    "mpb = flopy.modpath.ModpathBas(mp, hdry=mf.lpf.hdry, laytyp=mf.lpf.laytyp, \n",
    "        ibound=ibound, prsity=n)                                                  #create MODPATH BAS object\n",
    "sim = mp.create_mpsim(trackdir='forward', simtype='pathline', packages='RCH')     #create MODPATH simulation\n",
    "\n",
    "mp.write_input()                 #write MODPATH input files\n",
    "mp.run_model(silent=False)       #run MODPATH\n"
   ]
  },
  {
   "cell_type": "markdown",
   "metadata": {},
   "source": [
    "**Post-process results**"
   ]
  },
  {
   "cell_type": "code",
   "execution_count": null,
   "metadata": {},
   "outputs": [],
   "source": [
    "##Get outputs:\n",
    "#This section usually doesn't change much - ignore the FutureWarning\n",
    "\n",
    "#Get MODFLOW outputs:\n",
    "hds = bf.HeadFile(modelname+'.hds')    #reads the binary head file\n",
    "times = hds.get_times()                #returns a list of timesteps\n",
    "head = hds.get_data(totim=times[-1])        #returns a numpy array of heads for specified time (last timestep)\n",
    "#Get cell-by-cell outputs from cbb:\n",
    "#string options are in the list file under output control (make sure to include spaces!)\n",
    "cbb = bf.CellBudgetFile(modelname+'.cbc')   #reads the cell budget file    \n",
    "kstpkper_list = cbb.get_kstpkper()          #returns a list of stress periods & timesteps\n",
    "frf = cbb.get_data(text='FLOW RIGHT FACE', totim=times[-1])[0]      #returns an array of flow rates for right face of cells\n",
    "fff = cbb.get_data(text='FLOW FRONT FACE', totim=times[-1])[0]      #returns an array of flow rates for front face of cells\n",
    "stf = cbb.get_data(text='STREAM FLOW OUT ', totim=times[-1])[0]     #returns an array of flow rates in stream\n",
    "stl = cbb.get_data(text='  STREAM LEAKAGE', totim=times[-1])[0]     #returns an array of leakage rates in stream\n",
    "etf = cbb.get_data(text='              ET', totim=times[-1])[0]     #returns array of ET flow rates\n",
    "\n",
    "#Get MODPATH outputs:    \n",
    "endobj = flopy.utils.EndpointFile(modelname+'_mp.mpend')   #get the MODPATH endpoint file\n",
    "ept = endobj.get_alldata()                                 #import the endpoint data to FloPy\n",
    "#convert ept to an array:\n",
    "ept_array = np.zeros((len(ept),len(ept[0])-1))             #create an empty array the same dimensions as the ept file\n",
    "for row in np.arange(len(ept)):                            #loop over the ept file rows\n",
    "    for col in np.arange(len(ept[0])-1):                   #loop over the ept file columns (except the last one)\n",
    "        ept_array[row,col] = ept[row][col]                 #assign each ept item to the array\n",
    "        "
   ]
  },
  {
   "cell_type": "code",
   "execution_count": null,
   "metadata": {
    "scrolled": true
   },
   "outputs": [],
   "source": [
    "#Display water budget:\n",
    "\n",
    "#Get water budget information:\n",
    "lst = flopy.utils.MfListBudget(modelname+'.list')       #read list file\n",
    "budget = lst.get_data()                                 #get cumulative water budget for last timestep\n",
    "labels = [str(budget[i][2])[2:] for i in np.arange(len(budget))] #get and trim labels for each budget item (one-line for loop)\n",
    "vals = [budget[i][1] for i in np.arange(len(budget))]   #get values for each budget item\n",
    "\n",
    "#Print water budget:\n",
    "print('%25s'%'MASS BALANCE','\\n')   #print right-justified header taking up 25 spaces, then go to new line\n",
    "b=[print(\"%25s\"%labels[i],'\\t',\"%10s\"%vals[i]) for i in np.arange(len(budget))]  #iterate to print each item in buget"
   ]
  },
  {
   "cell_type": "code",
   "execution_count": null,
   "metadata": {},
   "outputs": [],
   "source": [
    "#Plot contour map of heads in Layer 1 at last timestep:\n",
    "\n",
    "#Create figure & plot data:\n",
    "f1,ax1 = plt.subplots(1,1,figsize=(6,6)) #create & return figure & axes at position (row, col) of size 6x6 inches\n",
    "levels = np.arange(1,100,1)  #creates an array of values used to determine which contour values to draw\n",
    "extent = (0, ncol, 0, nrow)              #sets plot boundaries (x0,x1,y0,y1)\n",
    "c = plt.contour(head[0,:,:], extent=extent, levels=levels, colors='SteelBlue')  #plots contours for all rows & columns in layer 1\n",
    "s = plt.scatter(well_info[2], well_info[1], c='DarkRed')    #plots well locations (col = x, row = y)\n",
    "\n",
    "#Format grid & axes:\n",
    "major_ticks = np.arange(0,nrow,5)         #creates an array for major tick marks every 5\n",
    "minor_ticks = np.arange(0,nrow)           #creates an array for minor tick marks every 1\n",
    "\n",
    "ax1.set_xticks(major_ticks)             #sets major ticks\n",
    "ax1.set_xticks(minor_ticks, minor=True) #sets minor ticks\n",
    "ax1.set_yticks(major_ticks)\n",
    "ax1.set_yticks(minor_ticks, minor=True)\n",
    "\n",
    "ax1.grid(which='both')                  #turns grid on for both major and minor ticks\n",
    "\n",
    "#Labels:\n",
    "plt.clabel(c, fmt='%1.2f')              #adds contour labels as floats with 2 decimal places       \n",
    "plt.title(modelname+' Heads (m)')       #adds a title\n",
    "\n",
    "#Display & save figure:\n",
    "plt.show(f1)                            #displays plot (not usually necessary)\n",
    "#plt.savefig(modelname+'_head_contours.png')    #optional: saves figure as a .png file \n"
   ]
  },
  {
   "cell_type": "code",
   "execution_count": null,
   "metadata": {},
   "outputs": [],
   "source": [
    "#Plot cross-section of heads along center row:\n",
    "run = 'n'\n",
    "if run == 'y':\n",
    "    \n",
    "    #Create figure & plot data:\n",
    "    f2,ax2 = plt.subplots(1,2,figsize=(15,5))  #create a figure object of width 15 in and height 5 in, with two subplots\n",
    "    ax2[0].plot(np.arange(ncol), head[0,nrow//2,:]) #plots heads at layer 0, center row, all columns\n",
    "\n",
    "    #Display layers:\n",
    "    ax2[0].plot(np.arange(ncol), botm[1,nrow//2,:],'--k',linewidth=1)  #plot bottom elevation of middle layer as a thin dashed black line\n",
    "    ax2[0].plot(np.arange(ncol), botm[0,nrow//2,:],'--k',linewidth=1)  #plot bottom elevation of top layer\n",
    "    ax2[0].plot(np.arange(ncol), ztop[nrow//2,:],'--k',linewidth=1)    #plot top elevation of top layer\n",
    "\n",
    "    #Format grid & axes:\n",
    "    major_ticks = np.arange(0,nrow,5)         #creates an array for major tick marks every 5\n",
    "    minor_ticks = np.arange(0,nrow)           #creates an array for minor tick marks every 1\n",
    "    ax2[0].set_xticks(major_ticks)             #sets major ticks\n",
    "    ax2[0].set_xticks(minor_ticks, minor=True) #sets minor ticks\n",
    "    ax2[0].grid(which='both')                  #turns grid on for both major and minor ticks  \n",
    "    ax2[0].set_ylim(bottom=zbot, top=np.amax(ztop))       #sets z limits to model bottom and highest top elev\n",
    "\n",
    "    #Plot zoomed in view:\n",
    "    ax2[1].plot(np.arange(ncol), head[0,nrow//2,:]) #plots heads at layer 0, center row, all columns\n",
    "\n",
    "    #Add titles & axis labels:\n",
    "    ax2[0].set_title(modelname+' Heads at row '+str(nrow//2)+' (m)')             #adds a title\n",
    "    ax2[0].set_xlabel('columns')\n",
    "    ax2[0].set_ylabel('elevation (m)')\n",
    "\n",
    "    ax2[1].set_title('zoom')             #adds a title\n",
    "    ax2[1].set_xlabel('columns')\n",
    "    ax2[1].set_ylabel('elevation(m)')\n",
    "\n",
    "    #Display figure:\n",
    "    plt.show(f2)\n"
   ]
  },
  {
   "cell_type": "code",
   "execution_count": null,
   "metadata": {},
   "outputs": [],
   "source": [
    "##Plot streamflow & leakage along stream:\n",
    "\n",
    "run = 'n'\n",
    "if run == 'y':\n",
    "    \n",
    "    #Extract streamflow & leakage data\n",
    "    strflows = np.zeros((nreach))       #create array of zeros the length of the stream\n",
    "    strleaks = np.zeros((nreach))       #create array of zeros the length of the stream\n",
    "    for i in np.arange(nreach):         #iterate over each reach\n",
    "        strflows[i] = stf[i][1]         #pull flow from stf array\n",
    "        strleaks[i] = stl[i][1]         #pull leakage from stl array\n",
    "\n",
    "    #Create figure & plot data:\n",
    "    f3,ax3 = plt.subplots(1,2,figsize=(15,5))  #create a figure object of width 15 in and height 5 in, with two subplots\n",
    "    ax3[0].plot(np.arange(ncol-2), strflows) #plot flows \n",
    "    ax3[0].plot(np.arange(ncol-2), head[0,nrow//2,1:ncol-1])  #plot heads\n",
    "    ax3[1].plot(np.arange(ncol-2), strleaks) #plot leakage\n",
    "\n",
    "    plt.show(f3)                            #displays plot (not usually necessary)"
   ]
  },
  {
   "cell_type": "code",
   "execution_count": null,
   "metadata": {},
   "outputs": [],
   "source": [
    "#Plot endpoints of particles:\n",
    "#see https://pubs.usgs.gov/tm/6a41/pdf/TM_6A_41.pdf (p.33) \n",
    "#for information on what the columns of the endpoint file correspond to\n",
    "\n",
    "run = 'n'\n",
    "if run == 'y':\n",
    "\n",
    "    f4,ax4 = plt.subplots(1,1,figsize=(6,6))                       #create & return figure & axes at position (row, col) of size 6x6 inches\n",
    "    plt.scatter(ept_array[:,8],ept_array[:,7],marker='.',c='k')    #plot start locations in black\n",
    "    plt.scatter(ept_array[:,20],ept_array[:,19],marker='.')        #plot end locations\n",
    "    plt.title('Particle end locations')                            #add title\n"
   ]
  },
  {
   "cell_type": "markdown",
   "metadata": {},
   "source": [
    "**Export data**"
   ]
  },
  {
   "cell_type": "code",
   "execution_count": null,
   "metadata": {},
   "outputs": [],
   "source": [
    "#Export head array to a CSV file:\n",
    "\n",
    "import csv                                              #import csv module (this DOESN'T import an actual csv file)\n",
    "with open(modelname+'FP_heads.csv', 'w', newline='') as csvfile:  #creates an empty csv file called FP_heads\n",
    "    writer = csv.writer(csvfile, delimiter=',')        \n",
    "    for i in range(len(head[0,:,0])):                    #writes each row\n",
    "        writer.writerow(head[0,i,:])\n",
    "        "
   ]
  }
 ],
 "metadata": {
  "kernelspec": {
   "display_name": "Python 3",
   "language": "python",
   "name": "python3"
  },
  "language_info": {
   "codemirror_mode": {
    "name": "ipython",
    "version": 3
   },
   "file_extension": ".py",
   "mimetype": "text/x-python",
   "name": "python",
   "nbconvert_exporter": "python",
   "pygments_lexer": "ipython3",
   "version": "3.6.2"
  }
 },
 "nbformat": 4,
 "nbformat_minor": 2
}
